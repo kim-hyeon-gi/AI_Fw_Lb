{
  "nbformat": 4,
  "nbformat_minor": 0,
  "metadata": {
    "colab": {
      "provenance": []
    },
    "kernelspec": {
      "name": "python3",
      "display_name": "Python 3"
    },
    "language_info": {
      "name": "python"
    }
  },
  "cells": [
    {
      "cell_type": "code",
      "execution_count": null,
      "metadata": {
        "id": "f-1FvkWuif75"
      },
      "outputs": [],
      "source": [
        "import panda as pd\n",
        "array = pd.Series(['사과', '바나나 ' ])"
      ]
    }
  ]
}